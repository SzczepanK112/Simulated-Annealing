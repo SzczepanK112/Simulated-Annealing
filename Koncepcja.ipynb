{
 "cells": [
  {
   "cell_type": "markdown",
   "metadata": {},
   "source": [
    "# Opracowanie koncepcji"
   ]
  },
  {
   "cell_type": "markdown",
   "metadata": {},
   "source": [
    "## 1. Funkcjonalność aplikacji - stanowisko badawcze"
   ]
  },
  {
   "cell_type": "markdown",
   "metadata": {},
   "source": [
    "### Wprowadzenia danych\n",
    "\n",
    "Aktualnie podczas tworzeniu algorytmu wykorzystujemy dane z jednego pliku, który utworzyliśmy ręcznie w postaci:\n",
    "\n",
    "Plik tekstowy: 'rozkład_ulic.txt' ->\n",
    "- (0,0) (5,0) 70 2\n",
    "- (0,0) (3,7) 60 2\n",
    "- (5,0) (10,0) 70 2\n",
    "- (5,0) (6,4) 50 2\n",
    "...\n",
    "- (1. wierzch) (2. wierzch) priorytet pasy\n",
    "\n",
    "Następnie dane z powyższego pliku tekstowego wczytywane są jako graf przy użyciu funkcji 'wczytaj_graf_z_pliku' w pliku 'wczytanie_mapy.py'.\n",
    "\n",
    "Takie rozwiązanie umożliwia użytkownikowi ręczne wpisanie danych, lecz w przypadku rozbudowanego zadania - mapy może być zbyt pracochłonne.\n",
    "Dlatego spróbujemy znaleźć alnernatywne, prostsze sposoby jak np. generowanie grafu na podstawie gotowej mapy."
   ]
  },
  {
   "cell_type": "markdown",
   "metadata": {},
   "source": [
    "### Generacja zadań testowych\n",
    "\n",
    "W celu przetestowania poprawności działania oraz wydajności naszego algorytmu konieczne będzie przeprowadzenie różnych testów.\n",
    "Dlatego potrzebne będzie nam wygenerowania zadań testowych.\n",
    "\n",
    "Ręczne stworzenie zadań testowych jest w teorii możliwe, lecz zbyt czasochłonne. Dobrym pomysłem będzie na przykład stworzenie losowych grafów - map.\n",
    "Jednak lepszym rozwiązaniem byłoby natomiast stworzenie zadań testowych na przykładzie realnych przykładów - na przykład wycinków map miast czy mniejszych \n",
    "miejscowości. \n",
    "\n",
    "Przeprowadzenie testów pomoże nam wykryć ewentualne błędy, pozwoli ulepszyć algorytm, a także znaleźć optymalne wartości używanych parametrów np. temperatury."
   ]
  },
  {
   "cell_type": "markdown",
   "metadata": {},
   "source": [
    "### Konfiguracja algorytmu\n",
    "\n",
    "Na początku oprócz określenia mapy - grafu z rozkładami ulic użytkownik będzie jeszcze kilka istotnych parametrów takich jak:\n",
    "ilość maszyn, temperaturę początkową, szybkość schładzania, maksymalna liczba iteracji, czas maksymalny czy prognoza opadów (co może być również generowane losowo).\n",
    "\n",
    "Główna część algorytmu znajduje się w pliku 'solution.py'. \n",
    "Podczas tworzenia klasy 'RoadClearingProblem' istotne jest podanie parametrów:\n",
    "prognoza opadów, graf - wczytana mapa, maszyny (lista wszystkich maszyn jako klas Machine) oraz czas maksymalny\n",
    "Generowane są rozwiązania początkowe dla każdej z maszyn - losowo.\n",
    "\n",
    "Głównym warunkiem ograniczającym w naszym wypadku jest to, aby droga każdej z maszyn była stała (maszyna nie może przeskakiwać między wierzchołkami, droga musi być połączona)\n",
    "\n",
    "Symulacja uwzględnia etapy opadów śniegu oraz wyznaczana współczynnik niebezpieczeństwa, który w naszym problemie jest minimalizowany.\n",
    "Dlatego funkcja celu będzie musiała minimalizować współczynnik niebezpieczeństwa dla każdej z wybranych tras w różnych etapach opadów.\n",
    "\n",
    "Sąsiedzi tworzeniu są na zasadzie wylosowania i usunięcia danej drogi, a następnie znalezeniu nowego połączenia tak aby droga była stała.\n",
    "\n",
    "Cały algorytm tworzony jest przy wykorzystaniu algorytmu symulowanego wyżarzania (SA)"
   ]
  },
  {
   "cell_type": "markdown",
   "metadata": {},
   "source": [
    "## 2. Prezentacja własności rozwiązania - problemu"
   ]
  },
  {
   "cell_type": "markdown",
   "metadata": {},
   "source": [
    "Aktualnie podczas tworzenia algorytmu wczytany rozkład dróg przy pomocy grafu wyświetlamy graficznie w pliku 'graf_podgladipynb', gdzie baza - punkt początkowy jest dodatkowo zaznaczona. Umożliwia nam to lepszy podgląd na analizowany problem oraz pomaga przy tworzeniu algorytmu i badaniu go krok po kroku.\n",
    "\n",
    "Koncepcja prezentacji rozwiązania to wyświetlenie otrzymanych dróg dla każdej maszyny w postaci graficznej na mapie - grafie lub ewentualnie dodatkowo w postaci numerycznej - listy kolejnych dróg.\n",
    "\n",
    "Wyświetlone powinny być również rozwiązanie startowe - również najlepiej w postaci wyświetlonej na grafie, a także wartość funkji celu (na przykład w formie wykresu jej wartości dla każdego badanego kroku w celu lepszej analizy).\n",
    "\n",
    "Dodatkowo przydatna może być również możliwość podglądu kolejnych przyjmowanych rozwiązań (w tym wypadku wystaczyłaby forma w postaci numerycznej - list)"
   ]
  },
  {
   "cell_type": "markdown",
   "metadata": {},
   "source": [
    "## 3. Prezentacja własności algorytmu - przebieg, mechanizmy, elementy"
   ]
  },
  {
   "cell_type": "markdown",
   "metadata": {},
   "source": [
    "W przypadku przebiegu algorytmu dość ważne jest, aby po otrzymaniu rozwiązania mogliśmy zaobserwować zmiany wartości funkcji celu dla poszczególnych kroków. Najlepiej będzie je zaprezentować graficznie za pomocą wykresu. Przydatne możc byc również uwzględnienie dopuszczalności rowiązania.\n",
    "\n",
    "Pomoże nam to na obserwowanie jak algorytm zbliża się do optymalnego rozwiązania, jak reaguje na zmiany w kolejnych iteracjach oraz czy na przykład powoli się stabilizuje.\n",
    "\n",
    "Dobrze będzie również monitorować inne parametry podczas przebiegu, które później pozwolą zbadać efektywność jego działania:\n",
    "- liczba iteracji, czas wykonania\n",
    "- jakość przyjmowanych rozwiązań (uwzględnienie wartości współczynnika niebezpieczeństwa)\n",
    "- liczba popraw lub pogorszeń funkcji celu, przyjmowania gorszych/lepszych rozwiązań\n",
    "\n",
    "Prezentacja własności algorytmu ważna jest szczególnie dla nas, pozwala nam dokładniej przeanalizować działanie algorytmu, otrzymywane rozwiązania i sprawdzać jego efektywność."
   ]
  },
  {
   "cell_type": "markdown",
   "metadata": {},
   "source": [
    "## 4. Eksperymenty obliczeniowe"
   ]
  },
  {
   "cell_type": "markdown",
   "metadata": {},
   "source": [
    "Chcemy ocenić, jak parametry algorytmu wpływają na wyniki oraz sprawdzić jego działanie w symulacjach różnych układów map i warunków pogodowych. Naszym celem jest także określenie optymalnych konfiguracji, które zapewnią najlepszy balans między czasem wykonania a jakością rozwiązań."
   ]
  },
  {
   "cell_type": "markdown",
   "metadata": {},
   "source": [
    "Do przeprowadzenia eksperymentów najistotniejsze jest uwzględnienie następujących scenariuszy:\n",
    "\n",
    "Zróżnicowane mapy:\n",
    "\n",
    "- przygotujemy testy dla grafaów o różnych rozmiarach, w tym map generowanych losowo oraz takich, które odzwierciedlają rzeczywiste fragmenty układów miast\n",
    "\n",
    "- powinniśmy uwzględnić różne poziomy gęstości połączeń w grafach, aby odwzorować rzeczywiste wyzwania w projektowaniu tras\n",
    "\n",
    "Różne prognozy opadów:\n",
    "\n",
    "- w celu zebrania kompletnych danych należy uwzględnić równomierne i umiarkowane opady, a także ekstremalne warunki z intensywnymi i zmiennymi opadami, aby przetestować algorytm w sytuacjach krytycznych\n",
    "\n",
    "Zmienne zestawy parametrów:\n",
    "\n",
    "- będziemy badać różne konfiguracje parametrów algorytmu, takie jak temperatura początkowa, szybkość schładzania, liczba iteracji czy maksymalny czas pracy"
   ]
  },
  {
   "cell_type": "markdown",
   "metadata": {},
   "source": [
    "Eksperymenty powinny pozwolić nam na zbadanie generowanych tras pod kątem wartości funkcji celu (współczynnika niebezpieczeństwa). Istotne będzie także porównanie rozwiązań początkowych z trasami uzyskanymi po optymalizacji. Oczekujemy, że eksperymenty pozwolą nam:\n",
    "\n",
    "- zidentyfikować zależności między parametrami algorytmu a jakością rozwiązań oraz czasem ich uzyskania\n",
    "\n",
    "- określić, w jakich warunkach algorytm jest najbardziej efektywny (np. dla jakiej temperatury początkowej i szybkości schładzania)\n",
    "\n",
    "- zweryfikować, czy algorytm skutecznie minimalizuje współczynnik niebezpieczeństwa w różnych prognozach opadów i dla różnych układów map\n",
    "\n",
    "- przygotować wizualizacje wyników, które ułatwią analizę uzyskanych tras oraz zmian funkcji celu w kolejnych iteracjach."
   ]
  }
 ],
 "metadata": {
  "language_info": {
   "name": "python"
  }
 },
 "nbformat": 4,
 "nbformat_minor": 2
}
