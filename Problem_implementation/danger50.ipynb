{
 "cells": [
  {
   "cell_type": "code",
   "execution_count": null,
   "metadata": {},
   "outputs": [],
   "source": [
    "from struktury_danych import *\n",
    "from fast_map_import import *\n",
    "from solution import *\n",
    "from wczytanie_mapy import *\n",
    "\n",
    "\n",
    "def make50(iterations, cooling_rate, temperature):\n",
    "\n",
    "  m1 = Machine(speed=15)\n",
    "  m2 = Machine(speed=20)\n",
    "\n",
    "  machines = [m1, m2]\n",
    "  Tmax = 1\n",
    "  snowfall = [10, 8, 6, 4]\n",
    "  graf_glowne = pobierz_graf_osm_z_punktu(\n",
    "    center_point=(50.062756, 19.938077),\n",
    "    dist=800,\n",
    "    dist_type=\"bbox\",\n",
    "    custom_drogi = [\"tertiary\", \"residential\"]\n",
    "    )\n",
    "  \n",
    "  danger_list = []\n",
    "  problem = RoadClearingProblem(snowfall ,graf_glowne, machines, Tmax)\n",
    "  for _ in range(50):\n",
    "    _, d, _ = problem.simulated_annealing_2(temperature, cooling_rate, iterations)\n",
    "    danger_list.append(d)\n",
    "\n",
    "  return danger_list"
   ]
  }
 ],
 "metadata": {
  "language_info": {
   "name": "python"
  }
 },
 "nbformat": 4,
 "nbformat_minor": 2
}
