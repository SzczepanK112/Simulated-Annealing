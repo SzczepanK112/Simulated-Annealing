from struktury_danych import *
from wczytanie_mapy import *

nazwa_pliku = 'rozklad_ulic.txt' 
# Tworzenie grafu
graf = wczytaj_graf_z_pliku(nazwa_pliku)

# Rysowanie grafu
graf.rysuj()
